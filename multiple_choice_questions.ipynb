{
 "cells": [
  {
   "cell_type": "code",
   "execution_count": null,
   "metadata": {},
   "outputs": [],
   "source": [
    "# Support for entering your Multiple Choice questions and answers into Blackboard\n",
    "# The class mc_question does not do much more than collecting the question (string)\n",
    "# and the multiple answers , and which answer is the correct one \n",
    "# (only one allowed to be correct). \n",
    "\n"
   ]
  },
  {
   "cell_type": "markdown",
   "metadata": {},
   "source": [
    "# This cell is defining the class we use for the MC questions"
   ]
  },
  {
   "cell_type": "code",
   "execution_count": 2,
   "metadata": {},
   "outputs": [],
   "source": [
    "class mc_question:\n",
    "    \"\"\"\n",
    "    Support class for creating mulitple choice question for Blackboard\n",
    "    \n",
    "    Attributes\n",
    "    ----------\n",
    "    default_points : int\n",
    "        default points for the question (for future use)\n",
    "    status : dictionary\n",
    "        key value pairs for error and status and validation of the objects\n",
    "    \n",
    "    Methods\n",
    "    -------\n",
    "    enter_answer()\n",
    "    enter_question()\n",
    "    export_to(fmt=\"blackboard\")\n",
    "    mark_answer()\n",
    "    reset()\n",
    "    validate()\n",
    "    \"\"\"\n",
    "    version=0.1\n",
    "    \n",
    "    max_answers=5\n",
    "    default_points=2\n",
    "    status = {'error':-9,'empty':0,'question_complete':1,'answers_complete':2,\n",
    "              'validated':4}\n",
    "    def __init__(self):\n",
    "        \"\"\"create a new multiple choice question\"\"\"\n",
    "        self.label=\"\" # a label id for the question\n",
    "        self.topic=\"\" # enter a topic or leave blank\"\n",
    "        self.question=\"\" #insert your text question here\"\n",
    "        self.answers = []\n",
    "        self.correct = [ False, False, False, False, False]\n",
    "        self.points=self.default_points\n",
    "        self.number=-1 # for random order in blackboard\n",
    "        self.istatus=self.status['empty']\n",
    "    \n",
    "    def __str__(self):\n",
    "        result=\"Question: \"+self.question+\"\\n\"\n",
    "        result+='\\n'\n",
    "        for i,a in enumerate(self.answers):\n",
    "            if self.correct[i]:\n",
    "                flag=\"(T)\"\n",
    "            else:\n",
    "                flag=\"(F)\"\n",
    "            result+=\"Answer \"+flag+\" : \"+a+\"\\n\"\n",
    "        return result\n",
    "    \n",
    "    def enter_answer(self):\n",
    "        \"\"\"Allows user to enter an answer (string).\"\"\"\n",
    "        if len(self.answers)<self.max_answers:\n",
    "            self.answers.append(input(\"Add an(other) answer:\"))\n",
    "        else:\n",
    "            print(\"You already provided \"+\n",
    "                  \"the maximum number of answers ({0}) \".format(len(self.answers)))\n",
    "        if len(self.answers)==self.max_answers:\n",
    "            self.istatus+=self.status['answers_complete'] \n",
    "        \n",
    "    def enter_question(self):\n",
    "        \"\"\"Allows user to enter a question (string).\"\"\"\n",
    "        self.question=input(\"Enter your question (hit enter to complete):\")\n",
    "        self.istatus+=self.status['question_complete']\n",
    "        \n",
    "            \n",
    "    ## this is the important function: formatting for Blackboard\n",
    "    ## http://blackboardsupport.calpoly.edu/content/faculty/tips_upload.html#questions\n",
    "    def export_to(self,fmt='blackboard'):\n",
    "        \"\"\"\n",
    "        Puts the question and answers into a single string.\n",
    "        \n",
    "        Parameters:\n",
    "        fmt : str, optional\n",
    "            Determines the format of the text (default is for Blackboard MC questions).\n",
    "            Currently, only one format is supported.\n",
    "        \"\"\"\n",
    "        if fmt==\"blackboard\" or fmt==\"Blackboard\":\n",
    "            line=\"\"\n",
    "            delim='\\t' # use a tab to separate entries (columns) \n",
    "            content_type=\"MC\"\n",
    "            question=self.question\n",
    "            line=line+content_type+delim+question+delim\n",
    "            for i, a in enumerate(self.answers):\n",
    "                if self.correct[i]:\n",
    "                    flag='Correct'\n",
    "                else:\n",
    "                    flag='Incorrect'\n",
    "                line=line+a+delim+flag+delim\n",
    "            line=line[:-1]\n",
    "        return line\n",
    "    \n",
    "    def mark_answer(self):\n",
    "        \"\"\"Allows user to mark the correct answer (only one correct answer is allowed).\"\"\"\n",
    "        \n",
    "        print(\"Enter 'a' and hit enter to mark the answer\"+\n",
    "              \"as the correct answer, else just hit enter\")\n",
    "        \n",
    "        for i, a in enumerate(self.answers):\n",
    "            res=input(a+\" <<< \")\n",
    "            if len(res) > 0:\n",
    "                if res[0]=='a' or res[0] == 'A':\n",
    "                    self.correct[i]=True\n",
    "                    print(\"set correct \"+str(i))\n",
    "                else:\n",
    "                    self.correct[i]=False\n",
    "            else:\n",
    "                self.correct[i]=False\n",
    "    \n",
    "    \n",
    "    def reset(self,what=\"all\"):\n",
    "        \"\"\"\n",
    "        Clear parts or all of the content\n",
    "        \n",
    "        Parameters:\n",
    "        -----------\n",
    "        what : str, optional\n",
    "            Determines what attributes of the object are reset to default values.\n",
    "            Currenly, default and only option is 'all': a full reset via __init__.\n",
    "        \"\"\"\n",
    "        \n",
    "        if what=='all':\n",
    "            self.__init__()\n",
    "    \n",
    "    def validate(self):\n",
    "        \"\"\"\n",
    "        Validate the multiple choice question that it is formally correct.\n",
    "        \n",
    "        This function does a check of the answers: are there sufficient answers,\n",
    "        and is one of the questions marked as the correct answer.\n",
    "        It also does a check if a question had been entered. \n",
    "        It does not check for logic or context relations between questions and answers!\n",
    "        \n",
    "        \"\"\"\n",
    "        if self.istatus<0:\n",
    "            result=False\n",
    "            print (\"Multiple choice question could \"+\n",
    "                   \"not be validated (status={0})\".format(self.istatus))\n",
    "        elif self.istatus<self.status['validated']:\n",
    "            icheck=0\n",
    "            result=False\n",
    "            for i, a in enumerate(self.answers):\n",
    "                if self.correct[i]:\n",
    "                    icheck+=1\n",
    "            if icheck==1:\n",
    "                result=True\n",
    "            else:\n",
    "                print (\"Check your answer solution guide (self.correct)!\")\n",
    "            if self.istatus!=3 and self.istatus!=1:\n",
    "                print (\"Check your question text. Was the question entered already?\")\n",
    "                result=False\n",
    "        return result\n",
    "    \n",
    "    \n",
    "    \n",
    "    \n",
    "\n"
   ]
  },
  {
   "cell_type": "markdown",
   "metadata": {},
   "source": [
    "## The code below is designed to create 10 questions\n",
    "\n",
    "you can change the variable "
   ]
  },
  {
   "cell_type": "code",
   "execution_count": 3,
   "metadata": {},
   "outputs": [],
   "source": [
    "# USERS SHOULD ADJUST THESE PARAMETERS\n",
    "# FOR TEST PURPOSE: set variable nquestion to 1 \n",
    "# (Later you can set it to 10 \n",
    "# if you are ready to enter 10 question with 5 answers for each question.) \n",
    "\n",
    "nquestion = 2\n",
    "# add to list of questions\n",
    "# file name for the export of the content of list quiz to a simple text file. \n",
    "# this can be uploaded to Blackboard.\n",
    "outfile=\"test.txt\"\n",
    "append_to_file=False"
   ]
  },
  {
   "cell_type": "markdown",
   "metadata": {},
   "source": [
    "### Here is the main loop"
   ]
  },
  {
   "cell_type": "code",
   "execution_count": 4,
   "metadata": {},
   "outputs": [
    {
     "name": "stdout",
     "output_type": "stream",
     "text": [
      "Enter your question (hit enter to complete):(1) How many packages are imported and required in this python script?\n",
      "Add an(other) answer:0\n",
      "Add an(other) answer:1\n",
      "Add an(other) answer:2\n",
      "Add an(other) answer:3\n",
      "Add an(other) answer:4\n",
      "Enter 'a' and hit enter to mark the answeras the correct answer, else just hit enter\n",
      "0 <<< \n",
      "1 <<< \n",
      "2 <<< a\n",
      "set correct 2\n",
      "3 <<< \n",
      "4 <<< \n",
      "Passed validation test. Export and append to list of MC questions.\n",
      ".... \n",
      "Enter your question (hit enter to complete):(2) In lines 1-2 is a Python statement with a variable assignment. What is the type of the object on the right hand side of the ‘=’ character (the object that gets assigned to the variable named ozone_station)?\n",
      "Add an(other) answer:int (integer)\n",
      "Add an(other) answer:bool (boolean)\n",
      "Add an(other) answer:list\n",
      "Add an(other) answer:string\n",
      "Add an(other) answer:numpy array (numpy.ndarray)\n",
      "Enter 'a' and hit enter to mark the answeras the correct answer, else just hit enter\n",
      "int (integer) <<< \n",
      "bool (boolean) <<< \n",
      "list <<< a\n",
      "set correct 2\n",
      "string <<< \n",
      "numpy array (numpy.ndarray) <<< \n",
      "Passed validation test. Export and append to list of MC questions.\n",
      ".... \n"
     ]
    }
   ],
   "source": [
    "# new list to collect the MC questions\n",
    "quiz = []\n",
    "test=mc_question() # a new test question\n",
    "\n",
    "for n in range(nquestion):\n",
    "    # fill in your test question \n",
    "    test.enter_question()\n",
    "    # fill in the answers\n",
    "    for i in range(mc_question.max_answers):\n",
    "        test.enter_answer()\n",
    "    # mark the correct answer\n",
    "    test.mark_answer()\n",
    "    if test.validate():\n",
    "        quiz.append(test.export_to(fmt='blackboard'))\n",
    "        print(\"Passed validation test. Export and append to list of MC questions.\")\n",
    "    print(\".... \")\n",
    "    test.reset()\n"
   ]
  },
  {
   "cell_type": "markdown",
   "metadata": {},
   "source": [
    "### Writing all the contents to a file"
   ]
  },
  {
   "cell_type": "code",
   "execution_count": 6,
   "metadata": {},
   "outputs": [
    {
     "name": "stdout",
     "output_type": "stream",
     "text": [
      "wrote text to file test.txt\n",
      "done.\n"
     ]
    }
   ],
   "source": [
    "# export all questions\n",
    "append_to_file=False\n",
    "if (append_to_file):\n",
    "    fout=open(outfile,'a') \n",
    "else:\n",
    "    fout=open(outfile,'w')\n",
    "\n",
    "for q in quiz:\n",
    "    fout.write(q+'\\n')\n",
    "fout.close()\n",
    "print(\"wrote text to file \"+outfile)\n",
    "print(\"done.\")"
   ]
  },
  {
   "cell_type": "code",
   "execution_count": 7,
   "metadata": {},
   "outputs": [
    {
     "name": "stdout",
     "output_type": "stream",
     "text": [
      "MC\t(2) In lines 1-2 is a Python statement with a variable assignment. What is the type of the object on the right hand side of the ‘=’ character (the object that gets assigned to the variable named ozone_station)?\tint (integer)\tIncorrect\tbool (boolean)\tIncorrect\tlist\tCorrect\tstring\tIncorrect\tnumpy array (numpy.ndarray)\tIncorrect\n"
     ]
    }
   ],
   "source": [
    "len(quiz)\n",
    "print(quiz[1])\n"
   ]
  },
  {
   "cell_type": "markdown",
   "metadata": {},
   "source": [
    "References:\n",
    "\n",
    "[Link to Blackboard text formatting information](http://blackboardsupport.calpoly.edu/content/faculty/tips_upload.html#questions)"
   ]
  },
  {
   "cell_type": "code",
   "execution_count": null,
   "metadata": {},
   "outputs": [],
   "source": []
  }
 ],
 "metadata": {
  "kernelspec": {
   "display_name": "Python 3",
   "language": "python",
   "name": "python3"
  },
  "language_info": {
   "codemirror_mode": {
    "name": "ipython",
    "version": 3
   },
   "file_extension": ".py",
   "mimetype": "text/x-python",
   "name": "python",
   "nbconvert_exporter": "python",
   "pygments_lexer": "ipython3",
   "version": "3.7.4"
  }
 },
 "nbformat": 4,
 "nbformat_minor": 2
}
